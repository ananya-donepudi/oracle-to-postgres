{
 "cells": [
  {
   "cell_type": "code",
   "execution_count": 6,
   "id": "4d26242d-b503-491c-a2bd-e34bfee666ba",
   "metadata": {},
   "outputs": [
    {
     "data": {
      "text/plain": [
       "17"
      ]
     },
     "execution_count": 6,
     "metadata": {},
     "output_type": "execute_result"
    }
   ],
   "source": [
    "from sqlalchemy import create_engine\n",
    "import pandas as pd\n",
    "\n",
    "# Replace these with your actual connection details\n",
    "oracle_username = 'SYSTEM'\n",
    "oracle_password = '1234'\n",
    "oracle_host = 'DESKTOP-CCM4VHF'\n",
    "oracle_port = 1521  # Oracle's default port is 1521\n",
    "oracle_service_name = 'XE'\n",
    "\n",
    "# Oracle connection\n",
    "oracle_connection_string = f'oracle+cx_oracle://{oracle_username}:{oracle_password}@{oracle_host}:{oracle_port}/{oracle_service_name}'\n",
    "oracle_engine = create_engine(oracle_connection_string)\n",
    "\n",
    "# PostgreSQL connection details\n",
    "postgresql_username = 'postgres'\n",
    "postgresql_password = '1234'\n",
    "postgresql_host = 'localhost'\n",
    "postgresql_port = 5432  # PostgreSQL's default port is 5432\n",
    "postgresql_database = 'weather'\n",
    "\n",
    "# PostgreSQL connection\n",
    "postgresql_connection_string = f'postgresql://{postgresql_username}:{postgresql_password}@{postgresql_host}:{postgresql_port}/{postgresql_database}'\n",
    "postgresql_engine = create_engine(postgresql_connection_string)\n",
    "\n",
    "# Query data from Oracle\n",
    "query = \"SELECT * FROM SYSTEM.weather_details\"\n",
    "df = pd.read_sql(query, oracle_engine)\n",
    "\n",
    "# Write data to PostgreSQL\n",
    "df.to_sql('weather_details', postgresql_engine, if_exists='replace', index=False)"
   ]
  }
 ],
 "metadata": {
  "kernelspec": {
   "display_name": "Python 3 (ipykernel)",
   "language": "python",
   "name": "python3"
  },
  "language_info": {
   "codemirror_mode": {
    "name": "ipython",
    "version": 3
   },
   "file_extension": ".py",
   "mimetype": "text/x-python",
   "name": "python",
   "nbconvert_exporter": "python",
   "pygments_lexer": "ipython3",
   "version": "3.11.7"
  }
 },
 "nbformat": 4,
 "nbformat_minor": 5
}
